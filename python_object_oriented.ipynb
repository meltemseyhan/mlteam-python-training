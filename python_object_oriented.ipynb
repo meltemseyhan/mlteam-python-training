{
 "cells": [
  {
   "cell_type": "markdown",
   "metadata": {},
   "source": [
    "Classes (Class name convention is CamelCase), attributes, methods, constructors, encapsulation"
   ]
  },
  {
   "cell_type": "code",
   "execution_count": 18,
   "metadata": {},
   "outputs": [
    {
     "name": "stdout",
     "output_type": "stream",
     "text": [
      "Meltem\n",
      "24\n",
      "Hello, my name is Meltem and I'am 24 years old\n",
      "An error occurred: 'Person' object has no attribute '__adult'\n",
      "True\n"
     ]
    }
   ],
   "source": [
    "from internal.functions import is_adult\n",
    "\n",
    "class Person:\n",
    "    def __init__(self, name: str, age: int) -> None:\n",
    "        self.name = name\n",
    "        self.age = age\n",
    "        self.__adult = is_adult(age)\n",
    "    def greet(self):\n",
    "        return f\"Hello, my name is {self.name} and I'am {self.age} years old\"\n",
    "    def get_adult(self):\n",
    "        return self.__adult\n",
    "    \n",
    "person1 = Person(\"Meltem\", 24)\n",
    "print(person1.name)\n",
    "print(person1.age)\n",
    "print(person1.greet())\n",
    "try:\n",
    "    print(person1.__adult)\n",
    "except AttributeError as error:\n",
    "    print(\"An error occurred:\", error)\n",
    "print(person1.get_adult())"
   ]
  },
  {
   "cell_type": "markdown",
   "metadata": {},
   "source": [
    "Inheretence and polymorphism"
   ]
  },
  {
   "cell_type": "code",
   "execution_count": 19,
   "metadata": {},
   "outputs": [
    {
     "name": "stdout",
     "output_type": "stream",
     "text": [
      "Hello, my name is Meltem and I'am 18 years old and I'm studying Computer Programming\n",
      "I'm studying Computer Programming\n"
     ]
    }
   ],
   "source": [
    "class Student(Person):\n",
    "    def __init__(self, name, age, major):\n",
    "        super().__init__(name, age)\n",
    "        self.major = major\n",
    "    def study(self):\n",
    "        return f\"I'm studying {self.major}\"\n",
    "    def greet(self):\n",
    "        return f\"{super().greet()} and {self.study()}\"\n",
    "    \n",
    "student1 = Student(\"Meltem\", 18, \"Computer Programming\")\n",
    "print(student1.greet())\n",
    "print(student1.study())"
   ]
  }
 ],
 "metadata": {
  "kernelspec": {
   "display_name": "Python 3",
   "language": "python",
   "name": "python3"
  },
  "language_info": {
   "codemirror_mode": {
    "name": "ipython",
    "version": 3
   },
   "file_extension": ".py",
   "mimetype": "text/x-python",
   "name": "python",
   "nbconvert_exporter": "python",
   "pygments_lexer": "ipython3",
   "version": "3.12.1"
  }
 },
 "nbformat": 4,
 "nbformat_minor": 2
}
