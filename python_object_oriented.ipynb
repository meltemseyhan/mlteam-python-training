{
 "cells": [
  {
   "cell_type": "markdown",
   "metadata": {},
   "source": [
    "# Classes and Encapsulation\n",
    "Class name convention is CamelCase. A class can have attributes, methods, constructors. \n",
    "To make an attribute private, you use '__' prefix in its name, for example '__name'. You can then define getters ('get_name') and setters ('set_name') to have a controlled access to your private variable."
   ]
  },
  {
   "cell_type": "code",
   "execution_count": null,
   "metadata": {},
   "outputs": [],
   "source": [
    "from internal.functions import is_adult\n",
    "\n",
    "class Person:\n",
    "    def __init__(self, name: str, age: int) -> None:\n",
    "        self.name = name\n",
    "        self.age = age\n",
    "        self.__adult = is_adult(age)\n",
    "    def greet(self):\n",
    "        return f\"Hello, my name is {self.name} and I'am {self.age} years old\"\n",
    "    def get_adult(self):\n",
    "        return self.__adult\n",
    "    \n",
    "person1 = Person(\"Meltem\", 24)\n",
    "print(person1.name)\n",
    "print(person1.age)\n",
    "print(person1.greet())\n",
    "try:\n",
    "    print(person1.__adult)\n",
    "except AttributeError as error:\n",
    "    print(\"An error occurred:\", error)\n",
    "print(person1.get_adult())"
   ]
  },
  {
   "cell_type": "markdown",
   "metadata": {},
   "source": [
    "# Inheretence and polymorphism"
   ]
  },
  {
   "cell_type": "code",
   "execution_count": null,
   "metadata": {},
   "outputs": [],
   "source": [
    "class Student(Person):\n",
    "    def __init__(self, name, age, major):\n",
    "        super().__init__(name, age)\n",
    "        self.major = major\n",
    "    def study(self):\n",
    "        return f\"I'm studying {self.major}\"\n",
    "    def greet(self):\n",
    "        return f\"{super().greet()} and {self.study()}\"\n",
    "    \n",
    "student1 = Student(\"Meltem\", 18, \"Computer Programming\")\n",
    "print(student1.greet())\n",
    "print(student1.study())"
   ]
  }
 ],
 "metadata": {
  "kernelspec": {
   "display_name": "Python 3",
   "language": "python",
   "name": "python3"
  },
  "language_info": {
   "codemirror_mode": {
    "name": "ipython",
    "version": 3
   },
   "file_extension": ".py",
   "mimetype": "text/x-python",
   "name": "python",
   "nbconvert_exporter": "python",
   "pygments_lexer": "ipython3",
   "version": "3.12.1"
  }
 },
 "nbformat": 4,
 "nbformat_minor": 2
}
