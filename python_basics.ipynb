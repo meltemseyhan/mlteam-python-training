{
 "cells": [
  {
   "cell_type": "markdown",
   "metadata": {},
   "source": [
    "# Variables\n",
    "Python is dynamically typed, you do not have to define the types of variables.\n",
    "Four major data types: int, str, bool, float"
   ]
  },
  {
   "cell_type": "code",
   "execution_count": 1,
   "metadata": {},
   "outputs": [
    {
     "name": "stdout",
     "output_type": "stream",
     "text": [
      "<class 'int'>\n"
     ]
    }
   ],
   "source": [
    "# Declare/assign a variable and print its type. \n",
    "age = 19\n",
    "print(type(age))"
   ]
  },
  {
   "cell_type": "markdown",
   "metadata": {},
   "source": [
    "# If statement"
   ]
  },
  {
   "cell_type": "code",
   "execution_count": 2,
   "metadata": {},
   "outputs": [
    {
     "name": "stdout",
     "output_type": "stream",
     "text": [
      "You will vote for the first time\n",
      "You can vote in USA\n",
      "You cannot vote\n"
     ]
    }
   ],
   "source": [
    "age = 18\n",
    "if age == 18:\n",
    "    print(\"You will vote for the first time\")\n",
    "\n",
    "if not age >= 18:\n",
    "    print(\"You cannot vote before you are 18\")\n",
    "\n",
    "country = \"USA\"\n",
    "if age >= 18 and country == \"USA\":\n",
    "    print(\"You can vote in USA\")\n",
    "\n",
    "age = 15\n",
    "if age == 18:\n",
    "    print(\"You will vote for the first time\")\n",
    "elif age > 18:\n",
    "    print(\"You can vote\")\n",
    "else:\n",
    "    print(\"You cannot vote\")"
   ]
  },
  {
   "cell_type": "markdown",
   "metadata": {},
   "source": [
    "# Print function"
   ]
  },
  {
   "cell_type": "code",
   "execution_count": 3,
   "metadata": {},
   "outputs": [
    {
     "name": "stdout",
     "output_type": "stream",
     "text": [
      "Hello\n",
      "Hello How are you Meltem\n",
      "Hello, How are you Meltem?\n"
     ]
    }
   ],
   "source": [
    "print(\"Hello\")\n",
    "print(\"Hello\", \"How are you\", \"Meltem\")\n",
    "name = \"Meltem\"\n",
    "print(f\"Hello, How are you {name}?\")"
   ]
  },
  {
   "cell_type": "markdown",
   "metadata": {},
   "source": [
    "# Getting input from user"
   ]
  },
  {
   "cell_type": "code",
   "execution_count": 4,
   "metadata": {},
   "outputs": [
    {
     "name": "stdout",
     "output_type": "stream",
     "text": [
      "Hello, How are you Meltem?\n"
     ]
    }
   ],
   "source": [
    "name = input(\"What is your name?\")\n",
    "print(f\"Hello, How are you {name}?\")"
   ]
  },
  {
   "cell_type": "markdown",
   "metadata": {},
   "source": [
    "# Defining and using functions"
   ]
  },
  {
   "cell_type": "code",
   "execution_count": 5,
   "metadata": {},
   "outputs": [
    {
     "name": "stdout",
     "output_type": "stream",
     "text": [
      "Hello Meltem, you are 45 years old\n",
      "Hello Ayşe, you are 30 years old\n",
      "Hello Fatma, you are 30 years old\n",
      "Hello Ayşe, you are 40 years old\n",
      "Hello\n",
      "None\n"
     ]
    }
   ],
   "source": [
    "def great(name, age):\n",
    "    print(f\"Hello {name}, you are {age} years old\")\n",
    "great(\"Meltem\", 45)\n",
    "\n",
    "def greatWithDefalts(name=\"Ayşe\", age=30):\n",
    "    print(f\"Hello {name}, you are {age} years old\")\n",
    "greatWithDefalts()\n",
    "greatWithDefalts(\"Fatma\")\n",
    "greatWithDefalts(age=40)\n",
    "\n",
    "#Returning None\n",
    "def sayHiOnlyToMeltem(name):\n",
    "    if name == \"Meltem\":\n",
    "        return \"Hello\"\n",
    "    else:\n",
    "        return None\n",
    "print(sayHiOnlyToMeltem(\"Meltem\"))\n",
    "print(sayHiOnlyToMeltem(\"Ayşe\"))"
   ]
  },
  {
   "cell_type": "markdown",
   "metadata": {},
   "source": [
    "# Annotations\n",
    "Using annotations when defining functions. Function annotations are optional in Python, and they are not enforced by the interpreter. However, they provide valuable information to developers and tools for static type checking, documentation generation, and code analysis."
   ]
  },
  {
   "cell_type": "code",
   "execution_count": 6,
   "metadata": {},
   "outputs": [
    {
     "name": "stdout",
     "output_type": "stream",
     "text": [
      "Hello Meltem, you are 45 years old\n",
      "Hello John, you are 30 years old\n"
     ]
    }
   ],
   "source": [
    "def great(name: str, age: int) -> str:\n",
    "    return \"Hello \" + name + \", you are \" + str(age) + \" years old\"\n",
    "print(great(\"Meltem\", 45))\n",
    "\n",
    "def great(name: str = \"John\", age: int=30) -> str:\n",
    "    return \"Hello \" + name + \", you are \" + str(age) + \" years old\"\n",
    "print(great())"
   ]
  },
  {
   "cell_type": "markdown",
   "metadata": {},
   "source": [
    "# Anonymous (lambda) functions \n",
    "In Python, anonymous functions, often created using the lambda keyword, are small, inline functions used for simple operations without the need for a formal function definition."
   ]
  },
  {
   "cell_type": "code",
   "execution_count": 7,
   "metadata": {},
   "outputs": [
    {
     "name": "stdout",
     "output_type": "stream",
     "text": [
      "Hello, Meltem\n",
      "Hello, Meltem. You are 45 years old\n",
      "True\n",
      "False\n"
     ]
    }
   ],
   "source": [
    "myfunc = lambda name: \"Hello, \" + name\n",
    "print(myfunc(\"Meltem\"))\n",
    "\n",
    "myfunc = lambda name, age: \"Hello, \" + name + \". You are \" + str(age) + \" years old\"\n",
    "print(myfunc(\"Meltem\", 45))\n",
    "\n",
    "isadult = lambda age: age >= 18\n",
    "print(isadult(19))\n",
    "print(isadult(15))"
   ]
  },
  {
   "cell_type": "markdown",
   "metadata": {},
   "source": [
    "# Variable scopes \n",
    "There are two main types of variable scopes: local scope, where a variable is accessible only within the current function or block, and global scope, where a variable is accessible throughout the entire program."
   ]
  },
  {
   "cell_type": "code",
   "execution_count": 8,
   "metadata": {},
   "outputs": [
    {
     "name": "stdout",
     "output_type": "stream",
     "text": [
      "31\n",
      "31\n",
      "An error occurred: cannot access local variable 'mynumber' where it is not associated with a value\n",
      "21\n",
      "30\n"
     ]
    }
   ],
   "source": [
    "mynumber = 30\n",
    "def increment():\n",
    "    global mynumber \n",
    "    mynumber = mynumber + 1\n",
    "    print(mynumber)\n",
    "increment()\n",
    "print(mynumber)\n",
    "\n",
    "try:\n",
    "    mynumber = 30\n",
    "    def increment():\n",
    "        mynumber = mynumber + 1\n",
    "        print(mynumber)\n",
    "    increment()\n",
    "    print(mynumber)\n",
    "except UnboundLocalError as error:\n",
    "    print(\"An error occurred:\", error)\n",
    "\n",
    "mynumber = 30\n",
    "def increment():\n",
    "    mynumber = 20\n",
    "    mynumber = mynumber + 1\n",
    "    print(mynumber)\n",
    "increment()\n",
    "print(mynumber)"
   ]
  },
  {
   "cell_type": "markdown",
   "metadata": {},
   "source": [
    "# Importing built-in modules\n",
    "In Python, you can import built-in modules or specific constructs (functions, classes, global variables,...) from these modules using the import statement."
   ]
  },
  {
   "cell_type": "code",
   "execution_count": 9,
   "metadata": {},
   "outputs": [
    {
     "name": "stdout",
     "output_type": "stream",
     "text": [
      "24\n",
      "3.141592653589793\n",
      "24\n",
      "24\n",
      "3.141592653589793\n",
      "24\n",
      "3.141592653589793\n"
     ]
    }
   ],
   "source": [
    "import math\n",
    "print(math.factorial(4))\n",
    "print(math.pi)\n",
    "\n",
    "import math as m\n",
    "print(m.factorial(4))\n",
    "\n",
    "from math import factorial, pi\n",
    "print(factorial(4))\n",
    "print(pi)\n",
    "\n",
    "from math import factorial as fact, pi as p\n",
    "print(fact(4))\n",
    "print(p)"
   ]
  },
  {
   "cell_type": "markdown",
   "metadata": {},
   "source": [
    "# Pip and External Packages\n",
    "Pip is a package manager for Python that simplifies the process of installing, upgrading, and managing external packages and libraries from the Python Package Index (PyPI) and other sources. External packages, also known as libraries or modules, are pre-written collections of code and resources that extend Python's functionality, allowing developers to leverage and reuse existing solutions for a wide range of tasks and applications.\n",
    "\n",
    "Pyhon Package Index (**https://pypi.org/**)\n"
   ]
  },
  {
   "cell_type": "code",
   "execution_count": 10,
   "metadata": {},
   "outputs": [
    {
     "name": "stdout",
     "output_type": "stream",
     "text": [
      "Requirement already satisfied: requests in /Library/Frameworks/Python.framework/Versions/3.12/lib/python3.12/site-packages (2.31.0)\n",
      "Requirement already satisfied: charset-normalizer<4,>=2 in /Library/Frameworks/Python.framework/Versions/3.12/lib/python3.12/site-packages (from requests) (3.3.2)\n",
      "Requirement already satisfied: idna<4,>=2.5 in /Library/Frameworks/Python.framework/Versions/3.12/lib/python3.12/site-packages (from requests) (3.6)\n",
      "Requirement already satisfied: urllib3<3,>=1.21.1 in /Library/Frameworks/Python.framework/Versions/3.12/lib/python3.12/site-packages (from requests) (2.1.0)\n",
      "Requirement already satisfied: certifi>=2017.4.17 in /Library/Frameworks/Python.framework/Versions/3.12/lib/python3.12/site-packages (from requests) (2023.11.17)\n",
      "\n",
      "\u001b[1m[\u001b[0m\u001b[34;49mnotice\u001b[0m\u001b[1;39;49m]\u001b[0m\u001b[39;49m A new release of pip is available: \u001b[0m\u001b[31;49m23.3.2\u001b[0m\u001b[39;49m -> \u001b[0m\u001b[32;49m24.0\u001b[0m\n",
      "\u001b[1m[\u001b[0m\u001b[34;49mnotice\u001b[0m\u001b[1;39;49m]\u001b[0m\u001b[39;49m To update, run: \u001b[0m\u001b[32;49mpip install --upgrade pip\u001b[0m\n",
      "Note: you may need to restart the kernel to use updated packages.\n",
      "200\n"
     ]
    }
   ],
   "source": [
    "%pip install requests\n",
    "\n",
    "import requests\n",
    "response = requests.get(\"https://www.mlteam.ai\")\n",
    "print(response.status_code)"
   ]
  },
  {
   "cell_type": "markdown",
   "metadata": {},
   "source": [
    "# How to export/use your own module\n",
    "Each .py file is a module."
   ]
  },
  {
   "cell_type": "code",
   "execution_count": 11,
   "metadata": {},
   "outputs": [
    {
     "name": "stdout",
     "output_type": "stream",
     "text": [
      "False\n",
      "True\n"
     ]
    }
   ],
   "source": [
    "# We will import is_adult function from functions.py under internal folder\n",
    "from internal.functions import is_adult\n",
    "print(is_adult(15))\n",
    "print(is_adult(18))"
   ]
  },
  {
   "cell_type": "markdown",
   "metadata": {},
   "source": [
    "# While loop"
   ]
  },
  {
   "cell_type": "code",
   "execution_count": 12,
   "metadata": {},
   "outputs": [
    {
     "name": "stdout",
     "output_type": "stream",
     "text": [
      "Welcome to the club\n",
      "Too low\n",
      "Too low\n",
      "Too low\n",
      "Congrats, yoıu have guessed the number\n"
     ]
    }
   ],
   "source": [
    "from internal.functions import is_adult\n",
    "age = int(input(\"Please enter your age:\"))\n",
    "while not is_adult(age):\n",
    "    age = int(input(\"Sorry, you are not an adult. Please enter next person's age:\"))\n",
    "print(\"Welcome to the club\")\n",
    "\n",
    "import random\n",
    "number = random.randint(1,100)\n",
    "guess = int(input(\"Guess a number between 1 and 100:\"))\n",
    "while (guess != number):\n",
    "    if guess < number:\n",
    "        print(\"Too low\")\n",
    "    else:\n",
    "        print(\"Too high\")\n",
    "    guess = int(input(\"Try again:\"))\n",
    "print(\"Congrats, yoıu have guessed the number\")"
   ]
  },
  {
   "cell_type": "markdown",
   "metadata": {},
   "source": [
    "# For loop"
   ]
  },
  {
   "cell_type": "code",
   "execution_count": 13,
   "metadata": {},
   "outputs": [
    {
     "name": "stdout",
     "output_type": "stream",
     "text": [
      "For loop with no starting index\n",
      "Current value of i : 0\n",
      "Current value of i : 1\n",
      "Current value of i : 2\n",
      "Current value of i : 3\n",
      "Current value of i : 4\n",
      "Current value of i : 5\n",
      "Current value of i : 6\n",
      "Current value of i : 7\n",
      "Current value of i : 8\n",
      "Current value of i : 9\n",
      "Current value of i : 10\n",
      "Current value of i : 11\n",
      "Current value of i : 12\n",
      "Current value of i : 13\n",
      "Current value of i : 14\n",
      "For loop from 5(inclusive) to 15(exclusive) with a break\n",
      "Current value of i : 5\n",
      "Current value of i : 6\n",
      "For loop with a continue\n",
      "Current value of i : 1\n",
      "Current value of i : 2\n",
      "Current value of i : 3\n",
      "Current value of i : 4\n",
      "Current value of i : 5\n",
      "Current value of i : 6\n",
      "Current value of i : 7\n",
      "Current value of i : 8\n",
      "Current value of i : 9\n",
      "For loop with an increment value which is different from 1\n",
      "Current value of i : 0\n",
      "Current value of i : 2\n",
      "Current value of i : 4\n",
      "Current value of i : 6\n",
      "Current value of i : 8\n",
      "For loop instead of recursion\n",
      "Factorial: 24\n"
     ]
    }
   ],
   "source": [
    "print(\"For loop with no starting index\")\n",
    "for i in range(15):\n",
    "    print(\"Current value of i : \" + str(i))\n",
    "\n",
    "print(\"For loop from 5(inclusive) to 15(exclusive) with a break\")\n",
    "for i in range(5,15):\n",
    "    print(\"Current value of i : \" + str(i))\n",
    "    if i==6: \n",
    "        break\n",
    "\n",
    "print(\"For loop with a continue\")\n",
    "for i in range(10):\n",
    "    if i==0: \n",
    "        continue\n",
    "    print(\"Current value of i : \" + str(i))\n",
    "\n",
    "print(\"For loop with an increment value which is different from 1\")\n",
    "for i in range(0,10,2):\n",
    "    print(\"Current value of i : \" + str(i))\n",
    "\n",
    "print(\"For loop instead of recursion\")\n",
    "def factorial(n):\n",
    "    result = 1\n",
    "    for i in range(1, n+1):\n",
    "        result *= i\n",
    "    return result\n",
    "print(\"Factorial: \" + str(factorial(4)))"
   ]
  },
  {
   "cell_type": "markdown",
   "metadata": {},
   "source": [
    "# Tuples\n",
    "Tuples are collection of different type of values. They are immutable. Access is similar to arrays, with indices."
   ]
  },
  {
   "cell_type": "code",
   "execution_count": 14,
   "metadata": {},
   "outputs": [
    {
     "name": "stdout",
     "output_type": "stream",
     "text": [
      "('Meltem', 45)\n",
      "Name Meltem , Age 45\n",
      "Name: Meltem, age: 45\n"
     ]
    }
   ],
   "source": [
    "person = (\"Meltem\", 45)\n",
    "print(person)\n",
    "print(\"Name\", person[0], \", Age\", person[1]);\n",
    "name, age = person\n",
    "print(f\"Name: {name}, age: {age}\")"
   ]
  },
  {
   "cell_type": "markdown",
   "metadata": {},
   "source": [
    "# Lists\n",
    "Lists are like arrays, you can access by indices and modify (append, remove, change, etc.)"
   ]
  },
  {
   "cell_type": "code",
   "execution_count": 15,
   "metadata": {},
   "outputs": [
    {
     "name": "stdout",
     "output_type": "stream",
     "text": [
      "Ahmet\n",
      "['Ahmet', 'Mehmet', 'Süreyya']\n",
      "['Ahmet', 'Mehmet', 'Süreyya', 'Ayşe']\n",
      "['Ahmet', 'Mehmet', 'Süreyya', 'Fatma']\n",
      "['Mehmet', 'Süreyya', 'Fatma']\n",
      "['Fatma', 'Süreyya', 'Mehmet']\n",
      "Fatma\n",
      "Süreyya\n",
      "Mehmet\n",
      "[5, 6, 7, 8, 9]\n"
     ]
    }
   ],
   "source": [
    "names = [\"Ahmet\", \"Mehmet\", \"Süreyya\"]\n",
    "print(names[0])\n",
    "print(names)\n",
    "names.append(\"Ayşe\")\n",
    "print(names)\n",
    "names[3] = \"Fatma\"\n",
    "print(names)\n",
    "names.remove(\"Ahmet\")\n",
    "print(names)\n",
    "names.reverse()\n",
    "print(names)\n",
    "\n",
    "for name in names:\n",
    "    print(name)\n",
    "\n",
    "# Take last n elements of a list\n",
    "numbers = [1,2,3,4,5,6,7,8,9]\n",
    "numbers = numbers[-5:]\n",
    "print(numbers)"
   ]
  },
  {
   "cell_type": "markdown",
   "metadata": {},
   "source": [
    "# List of tuples"
   ]
  },
  {
   "cell_type": "code",
   "execution_count": 16,
   "metadata": {},
   "outputs": [
    {
     "name": "stdout",
     "output_type": "stream",
     "text": [
      "[('Meltem', 25), ('Nilgün', 26), ('Mevlan', 27)]\n",
      "('Meltem', 25)\n",
      "('Meltem', 25)\n",
      "Name: Meltem, age: 25\n",
      "('Nilgün', 26)\n",
      "Name: Nilgün, age: 26\n",
      "('Mevlan', 27)\n",
      "Name: Mevlan, age: 27\n",
      "Name: Meltem, age: 25\n",
      "Name: Nilgün, age: 26\n",
      "Name: Mevlan, age: 27\n",
      "Name 0: Meltem, age 0: 25\n",
      "Name 1: Nilgün, age 1: 26\n",
      "Name 2: Mevlan, age 2: 27\n"
     ]
    }
   ],
   "source": [
    "people = [(\"Meltem\", 25), (\"Nilgün\", 26), (\"Mevlan\", 27)]\n",
    "print(people)\n",
    "\n",
    "first_person = people[0]\n",
    "print(first_person)\n",
    "\n",
    "for person in people:\n",
    "    print(person)\n",
    "    name = person[0]\n",
    "    age = person[1]\n",
    "    print(f\"Name: {name}, age: {age}\")\n",
    "\n",
    "for person in people:\n",
    "    name, age = person\n",
    "    print(f\"Name: {name}, age: {age}\")\n",
    "\n",
    "for i in range(0, len(people)):\n",
    "    print(f\"Name {i}: {people[i][0]}, age {i}: {people[i][1]}\")"
   ]
  },
  {
   "cell_type": "markdown",
   "metadata": {},
   "source": [
    "# Sets\n",
    "Sets are defined with {}, they are unordered and hold distinct values"
   ]
  },
  {
   "cell_type": "code",
   "execution_count": 17,
   "metadata": {},
   "outputs": [
    {
     "name": "stdout",
     "output_type": "stream",
     "text": [
      "{'Ayşe', 'Fatma', 'Hayriye'}\n",
      "{'Ayşe', 'Fatma', 'Hayriye'}\n",
      "Trying to remove an unexisting element throws a KeyError\n",
      "An error occurred: 'Ahmet'\n",
      "Removing an unexisting element using discard\n",
      "Ayşe\n",
      "Fatma\n",
      "Hayriye\n"
     ]
    }
   ],
   "source": [
    "name_set = {\"Ayşe\", \"Fatma\", \"Hayriye\"}\n",
    "print(name_set)\n",
    "\n",
    "name_set.add(\"Fatma\")\n",
    "print(name_set)\n",
    "\n",
    "try:\n",
    "    print(\"Trying to remove an unexisting element throws a KeyError\")\n",
    "    name_set.remove(\"Ahmet\")\n",
    "except KeyError as error: \n",
    "    print(\"An error occurred:\", error)\n",
    "\n",
    "print(\"Removing an unexisting element using discard\")\n",
    "name_set.discard(\"Ahmet\")\n",
    "\n",
    "for name in name_set:\n",
    "    print(name)"
   ]
  },
  {
   "cell_type": "markdown",
   "metadata": {},
   "source": [
    "# Dictionaries\n",
    "Dictionaries are key-value pairs"
   ]
  },
  {
   "cell_type": "code",
   "execution_count": 18,
   "metadata": {},
   "outputs": [
    {
     "name": "stdout",
     "output_type": "stream",
     "text": [
      "{'name': 'Meltem', 'age': 45, 'country': 'Turkey'}\n",
      "Meltem\n",
      "45\n",
      "Turkey\n",
      "An error occurred: 'phone'\n",
      "{'name': 'Meltem', 'age': 46, 'country': 'Turkey'}\n",
      "{'name': 'Meltem', 'age': 46, 'country': 'Turkey', 'city': 'Istanbul'}\n",
      "4\n",
      "{'name': 'Meltem', 'age': 46, 'country': 'Turkey'}\n",
      "name : Meltem\n",
      "age : 46\n",
      "country : Turkey\n",
      "Meltem\n",
      "46\n",
      "Turkey\n",
      "name : Meltem\n",
      "age : 46\n",
      "country : Turkey\n"
     ]
    }
   ],
   "source": [
    "person = {\n",
    "    \"name\": \"Meltem\",\n",
    "    \"age\": 45,\n",
    "    \"country\": \"Turkey\"\n",
    "}\n",
    "print(person)\n",
    "print(person[\"name\"])\n",
    "print(person[\"age\"])\n",
    "print(person[\"country\"])\n",
    "\n",
    "try:\n",
    "    print(person[\"phone\"])\n",
    "except KeyError as error:\n",
    "    print(\"An error occurred:\", error)\n",
    "\n",
    "person[\"age\"] += 1 \n",
    "print(person)\n",
    "\n",
    "person[\"city\"] = \"Istanbul\"\n",
    "print(person)\n",
    "print(len(person))\n",
    "\n",
    "del person[\"city\"]\n",
    "print(person)\n",
    "\n",
    "for key in person:\n",
    "    print(key, \":\", person[key])\n",
    "\n",
    "for value in person.values():\n",
    "    print(value)\n",
    "\n",
    "for key, value in person.items():\n",
    "     print(key, \":\", value)"
   ]
  }
 ],
 "metadata": {
  "kernelspec": {
   "display_name": "Python 3",
   "language": "python",
   "name": "python3"
  },
  "language_info": {
   "codemirror_mode": {
    "name": "ipython",
    "version": 3
   },
   "file_extension": ".py",
   "mimetype": "text/x-python",
   "name": "python",
   "nbconvert_exporter": "python",
   "pygments_lexer": "ipython3",
   "version": "3.12.1"
  }
 },
 "nbformat": 4,
 "nbformat_minor": 2
}
