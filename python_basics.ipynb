{
 "cells": [
  {
   "cell_type": "markdown",
   "metadata": {},
   "source": [
    "# Variables\n",
    "Python is dynamically typed, you do not have to define the types of variables.\n",
    "Four major data types: int, str, bool, float"
   ]
  },
  {
   "cell_type": "code",
   "execution_count": null,
   "metadata": {},
   "outputs": [],
   "source": [
    "# Declare/assign a variable and print its type. \n",
    "age = 19\n",
    "print(type(age))"
   ]
  },
  {
   "cell_type": "markdown",
   "metadata": {},
   "source": [
    "# If statement"
   ]
  },
  {
   "cell_type": "code",
   "execution_count": null,
   "metadata": {},
   "outputs": [],
   "source": [
    "age = 18\n",
    "if age == 18:\n",
    "    print(\"You will vote for the first time\")\n",
    "\n",
    "if not age >= 18:\n",
    "    print(\"You cannot vote before you are 18\")\n",
    "\n",
    "country = \"USA\"\n",
    "if age >= 18 and country == \"USA\":\n",
    "    print(\"You can vote in USA\")\n",
    "\n",
    "age = 15\n",
    "if age == 18:\n",
    "    print(\"You will vote for the first time\")\n",
    "elif age > 18:\n",
    "    print(\"You can vote\")\n",
    "else:\n",
    "    print(\"You cannot vote\")"
   ]
  },
  {
   "cell_type": "markdown",
   "metadata": {},
   "source": [
    "# Print function"
   ]
  },
  {
   "cell_type": "code",
   "execution_count": null,
   "metadata": {},
   "outputs": [],
   "source": [
    "print(\"Hello\")\n",
    "print(\"Hello\", \"How are you\", \"Meltem\")\n",
    "name = \"Meltem\"\n",
    "print(f\"Hello, How are you {name}?\")"
   ]
  },
  {
   "cell_type": "markdown",
   "metadata": {},
   "source": [
    "# Getting input from user"
   ]
  },
  {
   "cell_type": "code",
   "execution_count": null,
   "metadata": {},
   "outputs": [],
   "source": [
    "name = input(\"What is your name?\")\n",
    "print(f\"Hello, How are you {name}?\")"
   ]
  },
  {
   "cell_type": "markdown",
   "metadata": {},
   "source": [
    "# Defining and using functions"
   ]
  },
  {
   "cell_type": "code",
   "execution_count": null,
   "metadata": {},
   "outputs": [],
   "source": [
    "def great(name, age):\n",
    "    print(f\"Hello {name}, you are {age} years old\")\n",
    "great(\"Meltem\", 45)\n",
    "\n",
    "def greatWithDefalts(name=\"Ayşe\", age=30):\n",
    "    print(f\"Hello {name}, you are {age} years old\")\n",
    "greatWithDefalts()\n",
    "greatWithDefalts(\"Fatma\")\n",
    "greatWithDefalts(age=40)\n",
    "\n",
    "#Returning None\n",
    "def sayHiOnlyToMeltem(name):\n",
    "    if name == \"Meltem\":\n",
    "        return \"Hello\"\n",
    "    else:\n",
    "        return None\n",
    "print(sayHiOnlyToMeltem(\"Meltem\"))\n",
    "print(sayHiOnlyToMeltem(\"Ayşe\"))"
   ]
  },
  {
   "cell_type": "markdown",
   "metadata": {},
   "source": [
    "# Annotations\n",
    "Using annotations when defining functions. Function annotations are optional in Python, and they are not enforced by the interpreter. However, they provide valuable information to developers and tools for static type checking, documentation generation, and code analysis."
   ]
  },
  {
   "cell_type": "code",
   "execution_count": null,
   "metadata": {},
   "outputs": [],
   "source": [
    "def great(name: str, age: int) -> str:\n",
    "    return \"Hello \" + name + \", you are \" + str(age) + \" years old\"\n",
    "print(great(\"Meltem\", 45))\n",
    "\n",
    "def great(name: str = \"John\", age: int=30) -> str:\n",
    "    return \"Hello \" + name + \", you are \" + str(age) + \" years old\"\n",
    "print(great())"
   ]
  },
  {
   "cell_type": "markdown",
   "metadata": {},
   "source": [
    "# Anonymous (lambda) functions \n",
    "In Python, anonymous functions, often created using the lambda keyword, are small, inline functions used for simple operations without the need for a formal function definition."
   ]
  },
  {
   "cell_type": "code",
   "execution_count": null,
   "metadata": {},
   "outputs": [],
   "source": [
    "myfunc = lambda name: \"Hello, \" + name\n",
    "print(myfunc(\"Meltem\"))\n",
    "\n",
    "myfunc = lambda name, age: \"Hello, \" + name + \". You are \" + str(age) + \" years old\"\n",
    "print(myfunc(\"Meltem\", 45))\n",
    "\n",
    "isadult = lambda age: age >= 18\n",
    "print(isadult(19))\n",
    "print(isadult(15))"
   ]
  },
  {
   "cell_type": "markdown",
   "metadata": {},
   "source": [
    "# Variable scopes \n",
    "There are two main types of variable scopes: local scope, where a variable is accessible only within the current function or block, and global scope, where a variable is accessible throughout the entire program."
   ]
  },
  {
   "cell_type": "code",
   "execution_count": null,
   "metadata": {},
   "outputs": [],
   "source": [
    "mynumber = 30\n",
    "def increment():\n",
    "    global mynumber \n",
    "    mynumber = mynumber + 1\n",
    "    print(mynumber)\n",
    "increment()\n",
    "print(mynumber)\n",
    "\n",
    "try:\n",
    "    mynumber = 30\n",
    "    def increment():\n",
    "        mynumber = mynumber + 1\n",
    "        print(mynumber)\n",
    "    increment()\n",
    "    print(mynumber)\n",
    "except UnboundLocalError as error:\n",
    "    print(\"An error occurred:\", error)\n",
    "\n",
    "mynumber = 30\n",
    "def increment():\n",
    "    mynumber = 20\n",
    "    mynumber = mynumber + 1\n",
    "    print(mynumber)\n",
    "increment()\n",
    "print(mynumber)"
   ]
  },
  {
   "cell_type": "markdown",
   "metadata": {},
   "source": [
    "# Importing built-in modules\n",
    "In Python, you can import built-in modules or specific constructs (functions, classes, global variables,...) from these modules using the import statement."
   ]
  },
  {
   "cell_type": "code",
   "execution_count": null,
   "metadata": {},
   "outputs": [],
   "source": [
    "import math\n",
    "print(math.factorial(4))\n",
    "print(math.pi)\n",
    "\n",
    "import math as m\n",
    "print(m.factorial(4))\n",
    "\n",
    "from math import factorial, pi\n",
    "print(factorial(4))\n",
    "print(pi)\n",
    "\n",
    "from math import factorial as fact, pi as p\n",
    "print(fact(4))\n",
    "print(p)"
   ]
  },
  {
   "cell_type": "markdown",
   "metadata": {},
   "source": [
    "# Pip and External Packages\n",
    "Pip is a package manager for Python that simplifies the process of installing, upgrading, and managing external packages and libraries from the Python Package Index (PyPI) and other sources. External packages, also known as libraries or modules, are pre-written collections of code and resources that extend Python's functionality, allowing developers to leverage and reuse existing solutions for a wide range of tasks and applications.\n",
    "\n",
    "Pyhon Package Index (**https://pypi.org/**)\n"
   ]
  },
  {
   "cell_type": "code",
   "execution_count": null,
   "metadata": {},
   "outputs": [],
   "source": [
    "%pip install requests\n",
    "\n",
    "import requests\n",
    "response = requests.get(\"https://www.mlteam.ai\")\n",
    "print(response.status_code)"
   ]
  },
  {
   "cell_type": "markdown",
   "metadata": {},
   "source": [
    "# How to export/use your own module\n",
    "Each .py file is a module."
   ]
  },
  {
   "cell_type": "code",
   "execution_count": null,
   "metadata": {},
   "outputs": [],
   "source": [
    "# We will import is_adult function from functions.py under internal folder\n",
    "from internal.functions import is_adult\n",
    "print(is_adult(15))\n",
    "print(is_adult(18))"
   ]
  },
  {
   "cell_type": "markdown",
   "metadata": {},
   "source": [
    "# While loop"
   ]
  },
  {
   "cell_type": "code",
   "execution_count": null,
   "metadata": {},
   "outputs": [],
   "source": [
    "from internal.functions import is_adult\n",
    "age = int(input(\"Please enter your age:\"))\n",
    "while not is_adult(age):\n",
    "    age = int(input(\"Sorry, you are not an adult. Please enter next person's age:\"))\n",
    "print(\"Welcome to the club\")\n",
    "\n",
    "import random\n",
    "number = random.randint(1,100)\n",
    "guess = int(input(\"Guess a number between 1 and 100:\"))\n",
    "while (guess != number):\n",
    "    if guess < number:\n",
    "        print(\"Too low\")\n",
    "    else:\n",
    "        print(\"Too high\")\n",
    "    guess = int(input(\"Try again:\"))\n",
    "print(\"Congrats, yoıu have guessed the number\")"
   ]
  },
  {
   "cell_type": "markdown",
   "metadata": {},
   "source": [
    "# How to check if running as a library or main program\n",
    "The if __name__ == \"__main__\": construct in Python is used to determine if a Python script is being run as the main program or if it is being imported as a module into another script. It allows you to control the execution of code within your script based on whether it is the main program or an imported module. "
   ]
  },
  {
   "cell_type": "code",
   "execution_count": null,
   "metadata": {},
   "outputs": [],
   "source": [
    "if __name__ == \"__main__\":\n",
    "    print(\"I am running as the main program\")\n",
    "else:\n",
    "    print(\"I am imported as a module\")"
   ]
  },
  {
   "cell_type": "markdown",
   "metadata": {},
   "source": [
    "# For loop"
   ]
  },
  {
   "cell_type": "code",
   "execution_count": null,
   "metadata": {},
   "outputs": [],
   "source": [
    "print(\"For loop with no starting index\")\n",
    "for i in range(15):\n",
    "    print(\"Current value of i : \" + str(i))\n",
    "\n",
    "print(\"For loop from 5(inclusive) to 15(exclusive) with a break\")\n",
    "for i in range(5,15):\n",
    "    print(\"Current value of i : \" + str(i))\n",
    "    if i==6: \n",
    "        break\n",
    "\n",
    "print(\"For loop with a continue\")\n",
    "for i in range(10):\n",
    "    if i==0: \n",
    "        continue\n",
    "    print(\"Current value of i : \" + str(i))\n",
    "\n",
    "print(\"For loop with an increment value which is different from 1\")\n",
    "for i in range(0,10,2):\n",
    "    print(\"Current value of i : \" + str(i))\n",
    "\n",
    "print(\"For loop instead of recursion\")\n",
    "def factorial(n):\n",
    "    result = 1\n",
    "    for i in range(1, n+1):\n",
    "        result *= i\n",
    "    return result\n",
    "print(\"Factorial: \" + str(factorial(4)))"
   ]
  },
  {
   "cell_type": "markdown",
   "metadata": {},
   "source": [
    "# Tuples\n",
    "Tuples are collection of different type of values. They are immutable. Access is similar to arrays, with indices."
   ]
  },
  {
   "cell_type": "code",
   "execution_count": null,
   "metadata": {},
   "outputs": [],
   "source": [
    "person = (\"Meltem\", 45)\n",
    "print(person)\n",
    "print(\"Name\", person[0], \", Age\", person[1]);\n",
    "name, age = person\n",
    "print(f\"Name: {name}, age: {age}\")"
   ]
  },
  {
   "cell_type": "markdown",
   "metadata": {},
   "source": [
    "# Lists\n",
    "Lists are like arrays, you can access by indices and modify (append, remove, change, etc.)"
   ]
  },
  {
   "cell_type": "code",
   "execution_count": null,
   "metadata": {},
   "outputs": [],
   "source": [
    "names = [\"Ahmet\", \"Mehmet\", \"Süreyya\"]\n",
    "print(names[0])\n",
    "print(names)\n",
    "names.append(\"Ayşe\")\n",
    "print(names)\n",
    "names[3] = \"Fatma\"\n",
    "print(names)\n",
    "names.remove(\"Ahmet\")\n",
    "print(names)\n",
    "names.reverse()\n",
    "print(names)\n",
    "\n",
    "for name in names:\n",
    "    print(name)"
   ]
  },
  {
   "cell_type": "markdown",
   "metadata": {},
   "source": [
    "# List of tuples"
   ]
  },
  {
   "cell_type": "code",
   "execution_count": null,
   "metadata": {},
   "outputs": [],
   "source": [
    "people = [(\"Meltem\", 25), (\"Nilgün\", 26), (\"Mevlan\", 27)]\n",
    "print(people)\n",
    "\n",
    "first_person = people[0]\n",
    "print(first_person)\n",
    "\n",
    "for person in people:\n",
    "    print(person)\n",
    "    name = person[0]\n",
    "    age = person[1]\n",
    "    print(f\"Name: {name}, age: {age}\")\n",
    "\n",
    "for person in people:\n",
    "    name, age = person\n",
    "    print(f\"Name: {name}, age: {age}\")\n",
    "\n",
    "for i in range(0, len(people)):\n",
    "    print(f\"Name {i}: {people[i][0]}, age {i}: {people[i][1]}\")"
   ]
  },
  {
   "cell_type": "markdown",
   "metadata": {},
   "source": [
    "# Sets\n",
    "Sets are defined with {}, they are unordered and hold distinct values"
   ]
  },
  {
   "cell_type": "code",
   "execution_count": null,
   "metadata": {},
   "outputs": [],
   "source": [
    "name_set = {\"Ayşe\", \"Fatma\", \"Hayriye\"}\n",
    "print(name_set)\n",
    "\n",
    "name_set.add(\"Fatma\")\n",
    "print(name_set)\n",
    "\n",
    "try:\n",
    "    print(\"Trying to remove an unexisting element throws a KeyError\")\n",
    "    name_set.remove(\"Ahmet\")\n",
    "except KeyError as error: \n",
    "    print(\"An error occurred:\", error)\n",
    "\n",
    "print(\"Removing an unexisting element using discard\")\n",
    "name_set.discard(\"Ahmet\")\n",
    "\n",
    "for name in name_set:\n",
    "    print(name)"
   ]
  },
  {
   "cell_type": "markdown",
   "metadata": {},
   "source": [
    "# Dictionaries\n",
    "Dictionaries are key-value pairs"
   ]
  },
  {
   "cell_type": "code",
   "execution_count": null,
   "metadata": {},
   "outputs": [],
   "source": [
    "person = {\n",
    "    \"name\": \"Meltem\",\n",
    "    \"age\": 45,\n",
    "    \"country\": \"Turkey\"\n",
    "}\n",
    "print(person)\n",
    "print(person[\"name\"])\n",
    "print(person[\"age\"])\n",
    "print(person[\"country\"])\n",
    "\n",
    "try:\n",
    "    print(person[\"phone\"])\n",
    "except KeyError as error:\n",
    "    print(\"An error occurred:\", error)\n",
    "\n",
    "person[\"age\"] += 1 \n",
    "print(person)\n",
    "\n",
    "person[\"city\"] = \"Istanbul\"\n",
    "print(person)\n",
    "print(len(person))\n",
    "\n",
    "del person[\"city\"]\n",
    "print(person)\n",
    "\n",
    "for key in person:\n",
    "    print(key, \":\", person[key])\n",
    "\n",
    "for value in person.values():\n",
    "    print(value)\n",
    "\n",
    "for key, value in person.items():\n",
    "     print(key, \":\", value)"
   ]
  },
  {
   "cell_type": "markdown",
   "metadata": {},
   "source": [
    "# Error Handling\n",
    "The **try** block contains code that may raise exceptions, the **except** block handles exceptions, the **else** block is executed if no exceptions occur, and the **finally** block is used for cleanup code that always runs, regardless of whether an exception is raised or not."
   ]
  },
  {
   "cell_type": "code",
   "execution_count": null,
   "metadata": {},
   "outputs": [],
   "source": [
    "try:\n",
    "    age = int(input(\"Please enter your age: \"))\n",
    "except ValueError:\n",
    "    print(\"Please enter a valid integer\")\n",
    "except Exception as error:\n",
    "    print(\"An exception ocurred:\", error)\n",
    "else:\n",
    "    print(f\"You are {age} years old!\")\n",
    "finally:\n",
    "    print(\"Thank you for using our program\")"
   ]
  },
  {
   "cell_type": "markdown",
   "metadata": {},
   "source": [
    "# With Statement\n",
    "In Python, the with statement, often referred to as the \"context manager,\" is used in conjunction with the as clause to simplify resource management and ensure that certain actions are taken before and after a block of code. It is commonly used for tasks like file handling, database connections, and network sockets. The with statement ensures that resources are properly acquired and released, even if exceptions occur."
   ]
  },
  {
   "cell_type": "code",
   "execution_count": null,
   "metadata": {},
   "outputs": [],
   "source": [
    "# Create/overwrite example.txt\n",
    "with open('example.txt', 'w') as file:\n",
    "    file.write(\"I am a new file\")\n",
    "    file.flush()\n",
    "print(\"I am sure the file is closed.\")\n",
    "# File is automatically closed when the code block exits\n"
   ]
  }
 ],
 "metadata": {
  "kernelspec": {
   "display_name": "Python 3",
   "language": "python",
   "name": "python3"
  },
  "language_info": {
   "codemirror_mode": {
    "name": "ipython",
    "version": 3
   },
   "file_extension": ".py",
   "mimetype": "text/x-python",
   "name": "python",
   "nbconvert_exporter": "python",
   "pygments_lexer": "ipython3",
   "version": "3.12.1"
  }
 },
 "nbformat": 4,
 "nbformat_minor": 2
}
