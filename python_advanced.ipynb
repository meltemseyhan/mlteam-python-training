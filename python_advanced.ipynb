{
 "cells": [
  {
   "cell_type": "markdown",
   "metadata": {},
   "source": [
    "# List comprehension\n",
    "List comprehension in Python is a concise way to create lists by applying an expression to each element in an iterable (e.g., a list, tuple, or range) and optionally filtering the elements based on a condition. It allows you to generate lists in a single line of code, making your code more readable and expressive.\n",
    "Basic syntax: \n",
    "```python\n",
    "[expression for item in iterable if condition]\n",
    "```"
   ]
  },
  {
   "cell_type": "code",
   "execution_count": null,
   "metadata": {},
   "outputs": [],
   "source": [
    "numbers=[1,2,3,4,5,6,7,8]\n",
    "\n",
    "# We want a new list composed of the squares of the numbers in the first list.\n",
    "squares=[]\n",
    "for num in numbers:\n",
    "    squares.append(num **2)\n",
    "print(squares)\n",
    "\n",
    "# Instead we can do this by one line of code\n",
    "squares=[num ** 2 for num in numbers]\n",
    "print(squares)\n",
    "\n",
    "# Create a new list containing only even numbers from 'numbers'\n",
    "even_numbers = [x for x in numbers if x % 2 == 0]\n",
    "print(even_numbers)"
   ]
  },
  {
   "cell_type": "markdown",
   "metadata": {},
   "source": [
    "# Error Handling\n",
    "The **try** block contains code that may raise exceptions, the **except** block handles exceptions, the **else** block is executed if no exceptions occur, and the **finally** block is used for cleanup code that always runs, regardless of whether an exception is raised or not."
   ]
  },
  {
   "cell_type": "code",
   "execution_count": null,
   "metadata": {},
   "outputs": [],
   "source": [
    "try:\n",
    "    age = int(input(\"Please enter your age: \"))\n",
    "except ValueError:\n",
    "    print(\"Please enter a valid integer\")\n",
    "except Exception as error:\n",
    "    print(\"An exception ocurred:\", error)\n",
    "else:\n",
    "    print(f\"You are {age} years old!\")\n",
    "finally:\n",
    "    print(\"Thank you for using our program\")"
   ]
  },
  {
   "cell_type": "markdown",
   "metadata": {},
   "source": [
    "# With Statement\n",
    "In Python, the with statement, often referred to as the \"context manager,\" is used in conjunction with the as clause to simplify resource management and ensure that certain actions are taken before and after a block of code. It is commonly used for tasks like file handling, database connections, and network sockets. The with statement ensures that resources are properly acquired and released, even if exceptions occur."
   ]
  },
  {
   "cell_type": "code",
   "execution_count": null,
   "metadata": {},
   "outputs": [],
   "source": [
    "# Create/overwrite example.txt\n",
    "with open('example.txt', 'w') as file:\n",
    "    file.write(\"I am a new file\")\n",
    "    file.flush()\n",
    "print(\"I am sure the file is closed.\")\n",
    "# File is automatically closed when the code block exits"
   ]
  },
  {
   "cell_type": "markdown",
   "metadata": {},
   "source": [
    "# How to check if running as a library or main program\n",
    "The if __name__ == \"__main__\": construct in Python is used to determine if a Python script is being run as the main program or if it is being imported as a module into another script. It allows you to control the execution of code within your script based on whether it is the main program or an imported module. "
   ]
  },
  {
   "cell_type": "code",
   "execution_count": null,
   "metadata": {},
   "outputs": [],
   "source": [
    "if __name__ == \"__main__\":\n",
    "    print(\"I am running as the main program\")\n",
    "else:\n",
    "    print(\"I am imported as a module\")"
   ]
  },
  {
   "cell_type": "markdown",
   "metadata": {},
   "source": [
    "# Enumeration\n",
    "In Python, enumeration refers to the process of iterating over an iterable while keeping track of the index (position) and value of each element, achieved using the **enumerate()** function."
   ]
  },
  {
   "cell_type": "code",
   "execution_count": null,
   "metadata": {},
   "outputs": [],
   "source": [
    "fruits = [\"banana\", \"apple\", \"mango\"]\n",
    "for fruit in fruits:\n",
    "    print(fruit)\n",
    "\n",
    "# Now iterate with indices\n",
    "for index, fruit in enumerate(fruits):\n",
    "    print(index, \":\", fruit)"
   ]
  },
  {
   "cell_type": "markdown",
   "metadata": {},
   "source": [
    "# Classes and Encapsulation\n",
    "In Python, a class is a blueprint for creating objects that define both the attributes (data) and behaviors (methods) of those objects. A class serves as a template that encapsulates data and functions into a single unit, allowing you to create instances (objects) with shared characteristics and behaviors.\n",
    "\n",
    "Class name convention is CamelCase. A class can have attributes, methods, constructors. \n",
    "To make an attribute private, you use '__' prefix in its name, for example '__name'. You can then define getters ('get_name') and setters ('set_name') to have a controlled access to your private variable."
   ]
  },
  {
   "cell_type": "code",
   "execution_count": null,
   "metadata": {},
   "outputs": [],
   "source": [
    "from internal.functions import is_adult\n",
    "\n",
    "class Person:\n",
    "    def __init__(self, name: str, age: int) -> None:\n",
    "        self.name = name\n",
    "        self.age = age\n",
    "        self.__adult = is_adult(age)\n",
    "    def greet(self):\n",
    "        return f\"Hello, my name is {self.name} and I'am {self.age} years old\"\n",
    "    def get_adult(self):\n",
    "        return self.__adult\n",
    "    \n",
    "person1 = Person(\"Meltem\", 24)\n",
    "print(person1.name)\n",
    "print(person1.age)\n",
    "print(person1.greet())\n",
    "try:\n",
    "    print(person1.__adult)\n",
    "except AttributeError as error:\n",
    "    print(\"An error occurred:\", error)\n",
    "print(person1.get_adult())"
   ]
  },
  {
   "cell_type": "markdown",
   "metadata": {},
   "source": [
    "# Inheretence and polymorphism"
   ]
  },
  {
   "cell_type": "code",
   "execution_count": null,
   "metadata": {},
   "outputs": [],
   "source": [
    "# Student is a class that extends Person class.\n",
    "class Student(Person):\n",
    "    def __init__(self, name, age, major):\n",
    "        super().__init__(name, age)\n",
    "        self.major = major\n",
    "    def study(self):\n",
    "        return f\"I'm studying {self.major}\"\n",
    "    def greet(self):\n",
    "        return f\"{super().greet()} and {self.study()}\"\n",
    "    \n",
    "student1 = Student(\"Meltem\", 18, \"Computer Programming\")\n",
    "print(student1.greet())\n",
    "print(student1.study())"
   ]
  },
  {
   "cell_type": "markdown",
   "metadata": {},
   "source": [
    "# Sending and HTTP request and getting a JSON response"
   ]
  },
  {
   "cell_type": "code",
   "execution_count": null,
   "metadata": {},
   "outputs": [],
   "source": [
    "# Install and import \"requests\" package to be able to make an HTTP call\n",
    "%pip install requests\n",
    "import requests\n",
    "\n",
    "# Create a class to hold User information\n",
    "class User:\n",
    "    def __init__(self, name, username, email, phone):\n",
    "        self.name = name\n",
    "        self.username = username\n",
    "        self.email = email\n",
    "        self.phone = phone\n",
    "    def __str__(self) -> str:\n",
    "        return f\"Name: {self.name}, Username: {self.username}, Email: {self.email}, Phone: {self.phone}.\"\n",
    "\n",
    "# A function that sends an HTTP get request to \"https://jsonplaceholder.typicode.com/users\" to get a user list\n",
    "def get_users():\n",
    "    response = requests.get(\"https://jsonplaceholder.typicode.com/users\")\n",
    "    if response.status_code == 200:\n",
    "        return response.json()\n",
    "    else:\n",
    "        return None\n",
    "    \n",
    "users = get_users() \n",
    "user_objects = [] #List\n",
    "for user in users:\n",
    "    user_objects.append(User(user[\"name\"], user[\"username\"], user[\"email\"], user[\"phone\"]))\n",
    "for user in user_objects:\n",
    "    print(user)"
   ]
  },
  {
   "cell_type": "markdown",
   "metadata": {},
   "source": [
    "# Dotenv File\n",
    "\n",
    "The .env file, often referred to as an environment file or dotenv file, is a simple text file used to store configuration settings and sensitive data like API keys, passwords, and other environment-specific variables. It helps secure sensitive data by keeping them separate from your codebase, making it easier to manage and prevent accidental exposure of sensitive information."
   ]
  },
  {
   "cell_type": "code",
   "execution_count": null,
   "metadata": {},
   "outputs": [],
   "source": [
    "import os\n",
    "from dotenv import load_dotenv\n",
    "\n",
    "try:\n",
    "    with open('.env', 'w') as file:\n",
    "        file.write(\"MY_API_KEY=1234567\")\n",
    "        file.flush()\n",
    "        \n",
    "    load_dotenv()\n",
    "    my_api_key = os.getenv(\"MY_API_KEY\")\n",
    "    print(my_api_key)\n",
    "finally:\n",
    "    os.remove(\".env\")"
   ]
  }
 ],
 "metadata": {
  "kernelspec": {
   "display_name": "Python 3",
   "language": "python",
   "name": "python3"
  },
  "language_info": {
   "codemirror_mode": {
    "name": "ipython",
    "version": 3
   },
   "file_extension": ".py",
   "mimetype": "text/x-python",
   "name": "python",
   "nbconvert_exporter": "python",
   "pygments_lexer": "ipython3",
   "version": "3.12.1"
  }
 },
 "nbformat": 4,
 "nbformat_minor": 2
}
