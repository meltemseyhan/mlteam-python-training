{
 "cells": [
  {
   "cell_type": "markdown",
   "metadata": {},
   "source": [
    "# List comprehension\n",
    "List comprehension in Python is a concise way to create lists by applying an expression to each element in an iterable (e.g., a list, tuple, or range) and optionally filtering the elements based on a condition. It allows you to generate lists in a single line of code, making your code more readable and expressive.\n",
    "Basic syntax: \n",
    "```python\n",
    "[expression for item in iterable if condition]\n",
    "```"
   ]
  },
  {
   "cell_type": "code",
   "execution_count": null,
   "metadata": {},
   "outputs": [],
   "source": [
    "numbers=[1,2,3,4,5,6,7,8]\n",
    "\n",
    "# We want a new list composed of the squares of the numbers in the first list.\n",
    "squares=[]\n",
    "for num in numbers:\n",
    "    squares.append(num **2)\n",
    "print(squares)\n",
    "\n",
    "# Instead we can do this by one line of code\n",
    "squares=[num ** 2 for num in numbers]\n",
    "print(squares)\n",
    "\n",
    "# Create a new list containing only even numbers from 'numbers'\n",
    "even_numbers = [x for x in numbers if x % 2 == 0]\n",
    "print(even_numbers)"
   ]
  },
  {
   "cell_type": "markdown",
   "metadata": {},
   "source": [
    "# Error Handling\n",
    "The **try** block contains code that may raise exceptions, the **except** block handles exceptions, the **else** block is executed if no exceptions occur, and the **finally** block is used for cleanup code that always runs, regardless of whether an exception is raised or not."
   ]
  },
  {
   "cell_type": "code",
   "execution_count": null,
   "metadata": {},
   "outputs": [],
   "source": [
    "try:\n",
    "    age = int(input(\"Please enter your age: \"))\n",
    "except ValueError:\n",
    "    print(\"Please enter a valid integer\")\n",
    "except Exception as error:\n",
    "    print(\"An exception ocurred:\", error)\n",
    "else:\n",
    "    print(f\"You are {age} years old!\")\n",
    "finally:\n",
    "    print(\"Thank you for using our program\")"
   ]
  },
  {
   "cell_type": "markdown",
   "metadata": {},
   "source": [
    "# With Statement\n",
    "In Python, the with statement, often referred to as the \"context manager,\" is used in conjunction with the as clause to simplify resource management and ensure that certain actions are taken before and after a block of code. It is commonly used for tasks like file handling, database connections, and network sockets. The with statement ensures that resources are properly acquired and released, even if exceptions occur."
   ]
  },
  {
   "cell_type": "code",
   "execution_count": null,
   "metadata": {},
   "outputs": [],
   "source": [
    "# Create/overwrite example.txt\n",
    "with open('example.txt', 'w') as file:\n",
    "    file.write(\"I am a new file\")\n",
    "    file.flush()\n",
    "print(\"I am sure the file is closed.\")\n",
    "# File is automatically closed when the code block exits"
   ]
  },
  {
   "cell_type": "markdown",
   "metadata": {},
   "source": [
    "# How to check if running as a library or main program\n",
    "The if __name__ == \"__main__\": construct in Python is used to determine if a Python script is being run as the main program or if it is being imported as a module into another script. It allows you to control the execution of code within your script based on whether it is the main program or an imported module. "
   ]
  },
  {
   "cell_type": "code",
   "execution_count": null,
   "metadata": {},
   "outputs": [],
   "source": [
    "if __name__ == \"__main__\":\n",
    "    print(\"I am running as the main program\")\n",
    "else:\n",
    "    print(\"I am imported as a module\")"
   ]
  }
 ],
 "metadata": {
  "kernelspec": {
   "display_name": "Python 3",
   "language": "python",
   "name": "python3"
  },
  "language_info": {
   "codemirror_mode": {
    "name": "ipython",
    "version": 3
   },
   "file_extension": ".py",
   "mimetype": "text/x-python",
   "name": "python",
   "nbconvert_exporter": "python",
   "pygments_lexer": "ipython3",
   "version": "3.12.1"
  }
 },
 "nbformat": 4,
 "nbformat_minor": 2
}
