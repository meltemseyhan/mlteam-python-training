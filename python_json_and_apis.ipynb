{
 "cells": [
  {
   "cell_type": "markdown",
   "metadata": {},
   "source": [
    "# Class\n",
    "In Python, a class is a blueprint for creating objects that define both the attributes (data) and behaviors (methods) of those objects. A class serves as a template that encapsulates data and functions into a single unit, allowing you to create instances (objects) with shared characteristics and behaviors."
   ]
  },
  {
   "cell_type": "code",
   "execution_count": 6,
   "metadata": {},
   "outputs": [],
   "source": [
    "# Create a class to hold User information\n",
    "class User:\n",
    "    def __init__(self, name, username, email, phone):\n",
    "        self.name = name\n",
    "        self.username = username\n",
    "        self.email = email\n",
    "        self.phone = phone\n",
    "    def __str__(self) -> str:\n",
    "        return f\"Name: {self.name}, Username: {self.username}, Email: {self.email}, Phone: {self.phone}.\""
   ]
  },
  {
   "cell_type": "markdown",
   "metadata": {},
   "source": [
    "# Sending and HTTP request and getting a JSON response"
   ]
  },
  {
   "cell_type": "code",
   "execution_count": 7,
   "metadata": {},
   "outputs": [
    {
     "name": "stdout",
     "output_type": "stream",
     "text": [
      "Requirement already satisfied: requests in /Library/Frameworks/Python.framework/Versions/3.12/lib/python3.12/site-packages (2.31.0)\n",
      "Requirement already satisfied: charset-normalizer<4,>=2 in /Library/Frameworks/Python.framework/Versions/3.12/lib/python3.12/site-packages (from requests) (3.3.2)\n",
      "Requirement already satisfied: idna<4,>=2.5 in /Library/Frameworks/Python.framework/Versions/3.12/lib/python3.12/site-packages (from requests) (3.6)\n",
      "Requirement already satisfied: urllib3<3,>=1.21.1 in /Library/Frameworks/Python.framework/Versions/3.12/lib/python3.12/site-packages (from requests) (2.1.0)\n",
      "Requirement already satisfied: certifi>=2017.4.17 in /Library/Frameworks/Python.framework/Versions/3.12/lib/python3.12/site-packages (from requests) (2023.11.17)\n",
      "Note: you may need to restart the kernel to use updated packages.\n",
      "Name: Leanne Graham, Username: Bret, Email: Sincere@april.biz, Phone: 1-770-736-8031 x56442.\n",
      "Name: Ervin Howell, Username: Antonette, Email: Shanna@melissa.tv, Phone: 010-692-6593 x09125.\n",
      "Name: Clementine Bauch, Username: Samantha, Email: Nathan@yesenia.net, Phone: 1-463-123-4447.\n",
      "Name: Patricia Lebsack, Username: Karianne, Email: Julianne.OConner@kory.org, Phone: 493-170-9623 x156.\n",
      "Name: Chelsey Dietrich, Username: Kamren, Email: Lucio_Hettinger@annie.ca, Phone: (254)954-1289.\n",
      "Name: Mrs. Dennis Schulist, Username: Leopoldo_Corkery, Email: Karley_Dach@jasper.info, Phone: 1-477-935-8478 x6430.\n",
      "Name: Kurtis Weissnat, Username: Elwyn.Skiles, Email: Telly.Hoeger@billy.biz, Phone: 210.067.6132.\n",
      "Name: Nicholas Runolfsdottir V, Username: Maxime_Nienow, Email: Sherwood@rosamond.me, Phone: 586.493.6943 x140.\n",
      "Name: Glenna Reichert, Username: Delphine, Email: Chaim_McDermott@dana.io, Phone: (775)976-6794 x41206.\n",
      "Name: Clementina DuBuque, Username: Moriah.Stanton, Email: Rey.Padberg@karina.biz, Phone: 024-648-3804.\n"
     ]
    }
   ],
   "source": [
    "# Install and import \"requests\" package to be able to make an HTTP call\n",
    "%pip install requests\n",
    "import requests\n",
    "\n",
    "# A function that sends an HTTP get request to \"https://jsonplaceholder.typicode.com/users\" to get a user list\n",
    "def get_users():\n",
    "    response = requests.get(\"https://jsonplaceholder.typicode.com/users\")\n",
    "    if response.status_code == 200:\n",
    "        return response.json()\n",
    "    else:\n",
    "        return None\n",
    "    \n",
    "users = get_users() \n",
    "user_objects = [] #List\n",
    "for user in users:\n",
    "    user_objects.append(User(user[\"name\"], user[\"username\"], user[\"email\"], user[\"phone\"]))\n",
    "for user in user_objects:\n",
    "    print(user)"
   ]
  },
  {
   "cell_type": "markdown",
   "metadata": {},
   "source": [
    "# Dotenv File\n",
    "\n",
    "The .env file, often referred to as an environment file or dotenv file, is a simple text file used to store configuration settings and sensitive data like API keys, passwords, and other environment-specific variables. It helps secure sensitive data by keeping them separate from your codebase, making it easier to manage and prevent accidental exposure of sensitive information."
   ]
  },
  {
   "cell_type": "code",
   "execution_count": 8,
   "metadata": {},
   "outputs": [
    {
     "name": "stdout",
     "output_type": "stream",
     "text": [
      "1234567\n"
     ]
    }
   ],
   "source": [
    "import os\n",
    "from dotenv import load_dotenv\n",
    "\n",
    "try:\n",
    "    with open('.env', 'w') as file:\n",
    "        file.write(\"MY_API_KEY=1234567\")\n",
    "        file.flush()\n",
    "        \n",
    "    load_dotenv()\n",
    "    my_api_key = os.getenv(\"MY_API_KEY\")\n",
    "    print(my_api_key)\n",
    "finally:\n",
    "    os.remove(\".env\")"
   ]
  }
 ],
 "metadata": {
  "kernelspec": {
   "display_name": "Python 3",
   "language": "python",
   "name": "python3"
  },
  "language_info": {
   "codemirror_mode": {
    "name": "ipython",
    "version": 3
   },
   "file_extension": ".py",
   "mimetype": "text/x-python",
   "name": "python",
   "nbconvert_exporter": "python",
   "pygments_lexer": "ipython3",
   "version": "3.12.1"
  }
 },
 "nbformat": 4,
 "nbformat_minor": 2
}
